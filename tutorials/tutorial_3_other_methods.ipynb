{
 "cells": [
  {
   "cell_type": "markdown",
   "metadata": {},
   "source": [
    "# Tutorial 3: Other Methods\n",
    "In this tutorial, we'll describe how to incorporate other Lipschitz estimation techniques into our codebase. For each method, we try to use the official codebase attached to the papers. We simply built an interface on top of each of these to be more amenable to our system. The methods we consider are:\n",
    "* **CLEVER**: Uses randomly sampled points and extremal value theory to generate an heuristic Lipschitz estimate([github](https://github.com/IBM/CLEVER-Robustness-Score)). \n",
    "* **FastLip**: Uses the hyperbox and boolean hyperbox abstract domains to efficiently generate an upper bound to the Lipschitz constant ([github](https://github.com/huanzhang12/CertifiedReLURobustness)).\n",
    "* **LipLP**: The naive linear programming relaxation to LipMIP\n",
    "* **LipSDP**: Uses incremental quadratic constraints and semidefinite programming to generate a global upper bound of Lipschitz constants in the $\\ell_2$ setting ([github](https://github.com/arobey1/LipSDP)).\n",
    "* **SeqLip**: Frames Lipschitz estimation as a combinatorial optimization problem and uses greedy methods to generate a heuristic Lipschitz estimate ([github](https://github.com/avirmaux/lipEstimation)).\n",
    "* **RandomLB**: Randomly samples points and takes their maximal gradient norm. This is like CLEVER, but doesn't use the extremal value theory step, and thereby provides a certifiable lower bound.\n",
    "* **NaiveUB**: Multiplies the operator norm of each component of a ReLU network together to yield an extremely loose upper bound.\n",
    "* **ZLip**: Uses zonotope abstract interpretations to overapproximate output range\n",
    "\n",
    "Note that LipSDP uses the Mosek plugin for matlab to solve SDP's. Follow the instructions in their github to install these dependencies."
   ]
  },
  {
   "cell_type": "code",
   "execution_count": null,
   "metadata": {},
   "outputs": [],
   "source": [
    "# Imports\n",
    "# import matlab.engine\n",
    "\n",
    "import sys\n",
    "sys.path.append('..')\n",
    "import torch \n",
    "from pprint import pprint \n",
    "\n",
    "import utilities as utils\n",
    "from relu_nets import ReLUNet\n",
    "from hyperbox import Hyperbox \n",
    "from lipMIP import LipMIP\n",
    "from other_methods import CLEVER, FastLip2, LipLP, LipSDP, NaiveUB, RandomLB, SeqLip, ZLip\n",
    "import experiment as exp "
   ]
  },
  {
   "cell_type": "markdown",
   "metadata": {},
   "source": [
    "# 1: Individual Methods\n",
    "The interface to run each method is identical, and all inherit a generic `OtherResult` class (except for LipMIP). We demonstrate how to run each method here.\n",
    "\n",
    "Many methods have variants and hyperparameters that can be tuned. We incorporate these as kwargs and can tune them in our repository, but leave them mostly as default from their original codebases."
   ]
  },
  {
   "cell_type": "code",
   "execution_count": null,
   "metadata": {},
   "outputs": [],
   "source": [
    "# Basic network example \n",
    "test_network = ReLUNet([2, 8, 16, 2])\n",
    "test_domain = Hyperbox.build_unit_hypercube(2)\n",
    "primal_norm = 'linf'\n",
    "c_vector = torch.Tensor([1.0, -1.0])"
   ]
  },
  {
   "cell_type": "code",
   "execution_count": null,
   "metadata": {},
   "outputs": [],
   "source": [
    "# CLEVER (the first one alphabetically, so we'll use this as an example)\n",
    "test_clever = CLEVER(test_network, c_vector, test_domain, primal_norm) # builds a CLEVER instance\n",
    "clever_out = test_clever.compute() # executes CLEVER \n",
    "# Let's examine the output of CLEVER for a moment\n",
    "print('Lipschitz estimate (as a float) is:', clever_out)\n",
    "\n",
    "# We also store these attributes in the test_clever object (of class CLEVER)\n",
    "print('test_clever holds the value (%f), and compute_time (%f s)' % (test_clever.value, test_clever.compute_time))\n"
   ]
  },
  {
   "cell_type": "code",
   "execution_count": null,
   "metadata": {},
   "outputs": [],
   "source": [
    "# Evaluating all the methods (using the same interface)\n",
    "for other_method in [CLEVER, \n",
    "                     FastLip2,\n",
    "                     LipLP,\n",
    "                     NaiveUB, RandomLB, SeqLip, ZLip]:\n",
    "    test_object = other_method(test_network, c_vector, domain=test_domain, primal_norm=primal_norm)\n",
    "    test_object.compute()\n",
    "    print(other_method.__name__ + ' ran in %.02f seconds and has value %.04f' % \n",
    "          (test_object.compute_time, test_object.value))\n",
    "\n",
    "# CAVEAT! Some methods, such as LipSDP output an l2-lipschitz value, which needs to be scaled according to dimension"
   ]
  },
  {
   "cell_type": "markdown",
   "metadata": {},
   "source": [
    "# 2: The `Experiment` class\n",
    "As a convenient and flexible shorthand to evaluate lipschitz constants of various networks under various settings, we built the `Experiment` class which is very handy for performing common operations."
   ]
  },
  {
   "cell_type": "code",
   "execution_count": null,
   "metadata": {},
   "outputs": [],
   "source": [
    "eval_class = [#CLEVER, \n",
    "              FastLip2, \n",
    "              LipLP, \n",
    "              NaiveUB, \n",
    "              RandomLB, \n",
    "              SeqLip, \n",
    "              LipMIP, \n",
    "              ZLip]"
   ]
  },
  {
   "cell_type": "code",
   "execution_count": null,
   "metadata": {},
   "outputs": [],
   "source": [
    "# Use case 1: evaluating local lipschitz constants for a fixed network, across many small random domains\n",
    "\n",
    "# --- build experiment object \n",
    "basic_exp = exp.Experiment(eval_class, network=test_network, c_vector=c_vector, primal_norm=primal_norm)\n",
    "\n",
    "# --- run all methods across 10 random hyperboxes, centered in [0,1]^2, with fixed radius 0.2\n",
    "sample_domain = Hyperbox.build_unit_hypercube(2)\n",
    "sample_factory = utils.Factory(Hyperbox.build_linf_ball, radius=0.2)\n",
    "random_out = basic_exp.do_random_evals(3, sample_domain, sample_factory) # This should take about a minute"
   ]
  },
  {
   "cell_type": "code",
   "execution_count": null,
   "metadata": {},
   "outputs": [],
   "source": [
    "'''Examining random_out...\n",
    "random_out is a ResultList object, which is a list-like wrapper for individual Result Objects\n",
    "We'll first interact with a Result object which considers local lipschitz estimation for only one of the 3 \n",
    "random points we evaluated above. ResultList allows us to collect average and standard deviations for values\n",
    "and compute times\n",
    "'''\n",
    "result_0 = random_out.results[0] # first result \n",
    "result_0"
   ]
  },
  {
   "cell_type": "code",
   "execution_count": null,
   "metadata": {},
   "outputs": [],
   "source": [
    "# Just the values:\n",
    "pprint(result_0.values())"
   ]
  },
  {
   "cell_type": "code",
   "execution_count": null,
   "metadata": {},
   "outputs": [],
   "source": [
    "# Just the compute times \n",
    "pprint(result_0.compute_times())"
   ]
  },
  {
   "cell_type": "code",
   "execution_count": null,
   "metadata": {},
   "outputs": [],
   "source": [
    "# The entire objects\n",
    "pprint(result_0.objects())"
   ]
  },
  {
   "cell_type": "code",
   "execution_count": null,
   "metadata": {},
   "outputs": [],
   "source": [
    "# To operate on a result_list, you can access mean and standard deviations directly:\n",
    "print('values:')\n",
    "pprint(random_out.average_stdevs('value'))\n",
    "print('\\ntimes:')\n",
    "pprint(random_out.average_stdevs('time'))\n",
    "\n",
    "# where each triple is of the form (average, stdev, n)"
   ]
  },
  {
   "cell_type": "code",
   "execution_count": null,
   "metadata": {},
   "outputs": [],
   "source": [
    "# Use case 2: evaluating local lipschitz constants across [0,1]^d\n",
    "hcube_result = basic_exp.do_unit_hypercube_eval()\n",
    "hcube_result.values()"
   ]
  },
  {
   "cell_type": "code",
   "execution_count": null,
   "metadata": {},
   "outputs": [],
   "source": [
    "# Use case 3: evaluating local lipschitz constants across [-r, +r]^d where r is a parameter taken to be large\n",
    "large_r_result = basic_exp.do_large_radius_eval(1000.0)\n",
    "large_r_result.values()"
   ]
  },
  {
   "cell_type": "code",
   "execution_count": null,
   "metadata": {},
   "outputs": [],
   "source": []
  }
 ],
 "metadata": {
  "kernelspec": {
   "display_name": "Python 3 (ipykernel)",
   "language": "python",
   "name": "python3"
  },
  "language_info": {
   "codemirror_mode": {
    "name": "ipython",
    "version": 3
   },
   "file_extension": ".py",
   "mimetype": "text/x-python",
   "name": "python",
   "nbconvert_exporter": "python",
   "pygments_lexer": "ipython3",
   "version": "3.9.13"
  }
 },
 "nbformat": 4,
 "nbformat_minor": 2
}
